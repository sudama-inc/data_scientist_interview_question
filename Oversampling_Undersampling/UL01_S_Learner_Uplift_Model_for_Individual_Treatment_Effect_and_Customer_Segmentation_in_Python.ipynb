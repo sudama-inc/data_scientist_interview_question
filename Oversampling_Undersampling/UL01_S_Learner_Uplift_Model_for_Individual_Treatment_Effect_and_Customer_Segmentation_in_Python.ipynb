{
  "nbformat": 4,
  "nbformat_minor": 0,
  "metadata": {
    "colab": {
      "provenance": []
    },
    "kernelspec": {
      "name": "python3",
      "display_name": "Python 3"
    },
    "language_info": {
      "name": "python"
    }
  },
  "cells": [
    {
      "cell_type": "markdown",
      "source": [
        "Uplift model using meta-learner s-learner for heterogeneous individual treatment effect (ITE) and marketing customer segmentation"
      ],
      "metadata": {
        "id": "KUdm2TvOuTPf"
      }
    },
    {
      "cell_type": "markdown",
      "source": [
        "# Resources"
      ],
      "metadata": {
        "id": "M4X10Fi3Ebcx"
      }
    },
    {
      "cell_type": "markdown",
      "source": [
        "- [Blog post](https://medium.com/grabngoinfo/s-learner-uplift-model-for-individual-treatment-effect-and-customer-segmentation-in-python-9d410746e122) for this tutorial\n",
        "- Video version of the tutorial on [YouTube](https://www.youtube.com/watch?v=M2uDcafC4yg&list=PLVppujud2yJqmIwScr4r6_6tekClzdaE6&index=1)\n",
        "- More video tutorials on [Causal Inference](https://www.youtube.com/playlist?list=PLVppujud2yJoRnQTpHIKVe058uBxKgdWU)\n",
        "- More blog posts on [Causal Inference](https://medium.com/@AmyGrabNGoInfo/list/causal-inference-633898947606)\n",
        "\n",
        "\n",
        "For more information about data science and machine learning, please check out my [YouTube channel](https://www.youtube.com/channel/UCmbA7XB6Wb7bLwJw9ARPcYg), [Medium Page](https://medium.com/@AmyGrabNGoInfo) and [GrabNGoInfo.com](https://grabngoinfo.com/tutorials/), or follow GrabNGoInfo on [LinkedIn](https://www.linkedin.com/company/grabngoinfo/)."
      ],
      "metadata": {
        "id": "xRsYCdpnEjOL"
      }
    },
    {
      "cell_type": "markdown",
      "source": [
        "# Intro"
      ],
      "metadata": {
        "id": "qKLogeInutls"
      }
    },
    {
      "cell_type": "markdown",
      "source": [
        "S-learner is a meta-learner that uses a single machine learning model to estimate the individual level causal treatment effect. In this tutorial, we will talk about:\n",
        "* How to implement s-learner in Python?\n",
        "* How to make individual treatment effect (ITE) estimation using s-learner?\n",
        "* How to segment customers based on the individual treatment effect (ITE) estimation?\n",
        "\n",
        "Let's get started!"
      ],
      "metadata": {
        "id": "JV_ivEBNuwWg"
      }
    },
    {
      "cell_type": "markdown",
      "source": [
        "# Step 1: Install and Import Libraries"
      ],
      "metadata": {
        "id": "L_5HTw4AYD-8"
      }
    },
    {
      "cell_type": "markdown",
      "source": [
        "In step 1, we will install and import the python libraries.\n",
        "\n",
        "Firstly, let's install `causalml` for synthetic dataset creation."
      ],
      "metadata": {
        "id": "OCrHkR59xGwh"
      }
    },
    {
      "cell_type": "code",
      "execution_count": null,
      "metadata": {
        "colab": {
          "base_uri": "https://localhost:8080/"
        },
        "id": "S0hqiDX2QjDZ",
        "outputId": "95e73151-5376-4d5b-e24c-1f7b9602ce5a"
      },
      "outputs": [
        {
          "output_type": "stream",
          "name": "stdout",
          "text": [
            "Looking in indexes: https://pypi.org/simple, https://us-python.pkg.dev/colab-wheels/public/simple/\n",
            "Collecting causalml\n",
            "  Downloading causalml-0.13.0.tar.gz (535 kB)\n",
            "\u001b[K     |████████████████████████████████| 535 kB 34.7 MB/s \n",
            "\u001b[?25hRequirement already satisfied: setuptools>=41.0.0 in /usr/local/lib/python3.7/dist-packages (from causalml) (57.4.0)\n",
            "Collecting forestci==0.6\n",
            "  Downloading forestci-0.6-py3-none-any.whl (12 kB)\n",
            "Collecting pathos==0.2.9\n",
            "  Downloading pathos-0.2.9-py3-none-any.whl (76 kB)\n",
            "\u001b[K     |████████████████████████████████| 76 kB 5.7 MB/s \n",
            "\u001b[?25hRequirement already satisfied: pip>=10.0 in /usr/local/lib/python3.7/dist-packages (from causalml) (21.1.3)\n",
            "Requirement already satisfied: numpy>=1.18.5 in /usr/local/lib/python3.7/dist-packages (from causalml) (1.21.6)\n",
            "Requirement already satisfied: scipy>=1.4.1 in /usr/local/lib/python3.7/dist-packages (from causalml) (1.7.3)\n",
            "Requirement already satisfied: matplotlib in /usr/local/lib/python3.7/dist-packages (from causalml) (3.2.2)\n",
            "Requirement already satisfied: pandas>=0.24.1 in /usr/local/lib/python3.7/dist-packages (from causalml) (1.3.5)\n",
            "Requirement already satisfied: scikit-learn==1.0.2 in /usr/local/lib/python3.7/dist-packages (from causalml) (1.0.2)\n",
            "Requirement already satisfied: statsmodels>=0.9.0 in /usr/local/lib/python3.7/dist-packages (from causalml) (0.12.2)\n",
            "Requirement already satisfied: seaborn in /usr/local/lib/python3.7/dist-packages (from causalml) (0.11.2)\n",
            "Requirement already satisfied: Cython>=0.28.0 in /usr/local/lib/python3.7/dist-packages (from causalml) (0.29.32)\n",
            "Requirement already satisfied: xgboost in /usr/local/lib/python3.7/dist-packages (from causalml) (0.90)\n",
            "Requirement already satisfied: pydotplus in /usr/local/lib/python3.7/dist-packages (from causalml) (2.0.2)\n",
            "Requirement already satisfied: tqdm in /usr/local/lib/python3.7/dist-packages (from causalml) (4.64.1)\n",
            "Collecting shap\n",
            "  Downloading shap-0.41.0-cp37-cp37m-manylinux_2_12_x86_64.manylinux2010_x86_64.whl (569 kB)\n",
            "\u001b[K     |████████████████████████████████| 569 kB 79.3 MB/s \n",
            "\u001b[?25hRequirement already satisfied: dill in /usr/local/lib/python3.7/dist-packages (from causalml) (0.3.5.1)\n",
            "Requirement already satisfied: lightgbm in /usr/local/lib/python3.7/dist-packages (from causalml) (2.2.3)\n",
            "Collecting pygam\n",
            "  Downloading pygam-0.8.0-py2.py3-none-any.whl (1.8 MB)\n",
            "\u001b[K     |████████████████████████████████| 1.8 MB 41.3 MB/s \n",
            "\u001b[?25hRequirement already satisfied: packaging in /usr/local/lib/python3.7/dist-packages (from causalml) (21.3)\n",
            "Requirement already satisfied: torch in /usr/local/lib/python3.7/dist-packages (from causalml) (1.12.1+cu113)\n",
            "Collecting pyro-ppl\n",
            "  Downloading pyro_ppl-1.8.2-py3-none-any.whl (722 kB)\n",
            "\u001b[K     |████████████████████████████████| 722 kB 73.8 MB/s \n",
            "\u001b[?25hRequirement already satisfied: graphviz in /usr/local/lib/python3.7/dist-packages (from causalml) (0.10.1)\n",
            "Collecting pox>=0.3.1\n",
            "  Downloading pox-0.3.1-py2.py3-none-any.whl (28 kB)\n",
            "Collecting multiprocess>=0.70.13\n",
            "  Downloading multiprocess-0.70.13-py37-none-any.whl (115 kB)\n",
            "\u001b[K     |████████████████████████████████| 115 kB 59.7 MB/s \n",
            "\u001b[?25hCollecting ppft>=1.7.6.5\n",
            "  Downloading ppft-1.7.6.5-py2.py3-none-any.whl (52 kB)\n",
            "\u001b[K     |████████████████████████████████| 52 kB 1.5 MB/s \n",
            "\u001b[?25hRequirement already satisfied: joblib>=0.11 in /usr/local/lib/python3.7/dist-packages (from scikit-learn==1.0.2->causalml) (1.1.0)\n",
            "Requirement already satisfied: threadpoolctl>=2.0.0 in /usr/local/lib/python3.7/dist-packages (from scikit-learn==1.0.2->causalml) (3.1.0)\n",
            "Requirement already satisfied: pytz>=2017.3 in /usr/local/lib/python3.7/dist-packages (from pandas>=0.24.1->causalml) (2022.2.1)\n",
            "Requirement already satisfied: python-dateutil>=2.7.3 in /usr/local/lib/python3.7/dist-packages (from pandas>=0.24.1->causalml) (2.8.2)\n",
            "Requirement already satisfied: six>=1.7.3 in /usr/local/lib/python3.7/dist-packages (from ppft>=1.7.6.5->pathos==0.2.9->causalml) (1.15.0)\n",
            "Requirement already satisfied: patsy>=0.5 in /usr/local/lib/python3.7/dist-packages (from statsmodels>=0.9.0->causalml) (0.5.2)\n",
            "Requirement already satisfied: kiwisolver>=1.0.1 in /usr/local/lib/python3.7/dist-packages (from matplotlib->causalml) (1.4.4)\n",
            "Requirement already satisfied: pyparsing!=2.0.4,!=2.1.2,!=2.1.6,>=2.0.1 in /usr/local/lib/python3.7/dist-packages (from matplotlib->causalml) (3.0.9)\n",
            "Requirement already satisfied: cycler>=0.10 in /usr/local/lib/python3.7/dist-packages (from matplotlib->causalml) (0.11.0)\n",
            "Requirement already satisfied: typing-extensions in /usr/local/lib/python3.7/dist-packages (from kiwisolver>=1.0.1->matplotlib->causalml) (4.1.1)\n",
            "Requirement already satisfied: progressbar2 in /usr/local/lib/python3.7/dist-packages (from pygam->causalml) (3.38.0)\n",
            "Requirement already satisfied: future in /usr/local/lib/python3.7/dist-packages (from pygam->causalml) (0.16.0)\n",
            "Requirement already satisfied: python-utils>=2.3.0 in /usr/local/lib/python3.7/dist-packages (from progressbar2->pygam->causalml) (3.3.3)\n",
            "Requirement already satisfied: opt-einsum>=2.3.2 in /usr/local/lib/python3.7/dist-packages (from pyro-ppl->causalml) (3.3.0)\n",
            "Collecting pyro-api>=0.1.1\n",
            "  Downloading pyro_api-0.1.2-py3-none-any.whl (11 kB)\n",
            "Requirement already satisfied: numba in /usr/local/lib/python3.7/dist-packages (from shap->causalml) (0.56.2)\n",
            "Requirement already satisfied: cloudpickle in /usr/local/lib/python3.7/dist-packages (from shap->causalml) (1.5.0)\n",
            "Collecting slicer==0.0.7\n",
            "  Downloading slicer-0.0.7-py3-none-any.whl (14 kB)\n",
            "Requirement already satisfied: importlib-metadata in /usr/local/lib/python3.7/dist-packages (from numba->shap->causalml) (4.12.0)\n",
            "Requirement already satisfied: llvmlite<0.40,>=0.39.0dev0 in /usr/local/lib/python3.7/dist-packages (from numba->shap->causalml) (0.39.1)\n",
            "Requirement already satisfied: zipp>=0.5 in /usr/local/lib/python3.7/dist-packages (from importlib-metadata->numba->shap->causalml) (3.8.1)\n",
            "Building wheels for collected packages: causalml\n",
            "  Building wheel for causalml (setup.py) ... \u001b[?25l\u001b[?25hdone\n",
            "  Created wheel for causalml: filename=causalml-0.13.0-cp37-cp37m-linux_x86_64.whl size=1293700 sha256=9f4c9e3de4d99fb0d66ed713985009f814dd1699c5c99b3136b9033625606090\n",
            "  Stored in directory: /root/.cache/pip/wheels/a6/5b/69/42cc8e90cd501e2e912b073ec0747ee8daea28baaf4be0c7b9\n",
            "Successfully built causalml\n",
            "Installing collected packages: slicer, pyro-api, ppft, pox, multiprocess, shap, pyro-ppl, pygam, pathos, forestci, causalml\n",
            "Successfully installed causalml-0.13.0 forestci-0.6 multiprocess-0.70.13 pathos-0.2.9 pox-0.3.1 ppft-1.7.6.5 pygam-0.8.0 pyro-api-0.1.2 pyro-ppl-1.8.2 shap-0.41.0 slicer-0.0.7\n"
          ]
        }
      ],
      "source": [
        "# Install package\n",
        "!pip install causalml"
      ]
    },
    {
      "cell_type": "markdown",
      "source": [
        "After the installation is completed, we can import the libraries.\n",
        "* `pandas`is imported for data processing.\n",
        "* `synthetic_data` is imported for synthetic data creation.\n",
        "* `seaborn` is for visualization.\n",
        "* `LGBMRegressor` is for the machine learning model training."
      ],
      "metadata": {
        "id": "OvjGCt9ixXUI"
      }
    },
    {
      "cell_type": "code",
      "source": [
        "# Data processing\n",
        "import pandas as pd\n",
        "import numpy as np\n",
        "\n",
        "# Create synthetic data\n",
        "from causalml.dataset import synthetic_data\n",
        "\n",
        "# Visualization\n",
        "import seaborn as sns\n",
        "\n",
        "# Machine learning model\n",
        "from lightgbm import LGBMRegressor"
      ],
      "metadata": {
        "id": "12vc4XWRRJGL",
        "colab": {
          "base_uri": "https://localhost:8080/"
        },
        "outputId": "91228722-2ee0-4926-c71d-1cc148d91192"
      },
      "execution_count": null,
      "outputs": [
        {
          "output_type": "stream",
          "name": "stderr",
          "text": [
            "ERROR:duecredit:Failed to import duecredit due to No module named 'duecredit'\n"
          ]
        }
      ]
    },
    {
      "cell_type": "markdown",
      "source": [
        "# Step 2: Create Dataset"
      ],
      "metadata": {
        "id": "KQNx65mCYBev"
      }
    },
    {
      "cell_type": "markdown",
      "source": [
        "In step 2, we will create a synthetic dataset for the s-learner uplift model.\n",
        "\n",
        "* Firstly, a random seed is set to make the synthetic dataset reproducible.\n",
        "* Then, using the `synthetic_data` method from the `causalml` python package, we created a dataset with five features, one treatment variable, and one continuous outcome variable.\n",
        "* After that, the dataset is saved in a pandas dataframe.\n",
        "* Finally, using `value_counts` on the `treatment` variable, we can see that out of 1000 samples, 512 units received treatment and 488 did not receive treatment."
      ],
      "metadata": {
        "id": "yejD6nm7UW42"
      }
    },
    {
      "cell_type": "code",
      "source": [
        "# Set a seed for reproducibility\n",
        "np.random.seed(42)\n",
        "\n",
        "# Create a synthetic dataset\n",
        "y, X, treatment, _, _, _ = synthetic_data(mode=1, n=1000, p=5, sigma=1.0)\n",
        "\n",
        "# Save the data in a pandas dataframe\n",
        "df = pd.DataFrame({'y': y, 'X1': X.T[0], 'X2': X.T[1], 'X3': X.T[2], 'X4': X.T[3], 'X5': X.T[4], 'treatment': treatment})\n",
        "\n",
        "# Check treatment\n",
        "df['treatment'].value_counts()"
      ],
      "metadata": {
        "id": "gRzPyOCyRfDt",
        "colab": {
          "base_uri": "https://localhost:8080/"
        },
        "outputId": "1817836f-37f7-410c-a2c0-7a87854d1bf0"
      },
      "execution_count": null,
      "outputs": [
        {
          "output_type": "execute_result",
          "data": {
            "text/plain": [
              "1    512\n",
              "0    488\n",
              "Name: treatment, dtype: int64"
            ]
          },
          "metadata": {},
          "execution_count": 7
        }
      ]
    },
    {
      "cell_type": "markdown",
      "source": [
        "# Step 3: S-Learner Model Training"
      ],
      "metadata": {
        "id": "KnyVXDl8bsEa"
      }
    },
    {
      "cell_type": "markdown",
      "source": [
        "In step 3, we will train an s-learner model.\n",
        "\n",
        "S-learner trains a single machine learning model, and that's why it's called s-learner.\n",
        "* The model features (a.k.a. predictors or independent variables) include covariates and the treatment variable. We created a variable called `features` that includes `X1`, `X2`, `X3`, `X4`, `X5`, and `treatment`.\n",
        "* The dependent variable(a.k.a. label) is the outcome variable. We created a variable called `y` that includes the outcome column `y`."
      ],
      "metadata": {
        "id": "k8DT90Ip7mPs"
      }
    },
    {
      "cell_type": "code",
      "source": [
        "# Features\n",
        "features = df.loc[:, ['X1', 'X2', 'X3', 'X4', 'X5', 'treatment']]\n",
        "\n",
        "# Dependent variable\n",
        "y = df.loc[:, ['y']]"
      ],
      "metadata": {
        "id": "oELqo_-64DD4"
      },
      "execution_count": null,
      "outputs": []
    },
    {
      "cell_type": "markdown",
      "source": [
        "The model selection and hyperparameter tuning are important for the performance of an s-learner. This is because the model performance affects the model predictions hence the accuracy of the individual treatment effect (ITE) estimation.\n",
        "\n",
        "Many machine learning model algorithms can be used to build the s-learner. The model algorithms include but are not limited to LASSO regression, Ridge regression, random forest, XGBoost, and a neural network model.\n",
        "\n",
        "A light GBM model is used in this example, and the process is the same for other machine learning model algorithms.\n",
        "\n",
        "After initiating the `LGBMRegressor` method, we fit the model using the `features` and the outcome variable."
      ],
      "metadata": {
        "id": "o0kb_OEK_URN"
      }
    },
    {
      "cell_type": "code",
      "source": [
        "# Initiate the light GBM model\n",
        "s_learner = LGBMRegressor()\n",
        "\n",
        "# Fit the model\n",
        "s_learner.fit(features, y)"
      ],
      "metadata": {
        "id": "CoUDT9U7bxTk"
      },
      "execution_count": null,
      "outputs": []
    },
    {
      "cell_type": "markdown",
      "source": [
        "# Step 4: S-Learner Model Predictions"
      ],
      "metadata": {
        "id": "cOSRY9_kfOCE"
      }
    },
    {
      "cell_type": "markdown",
      "source": [
        "In step 4, we will make predictions using an s-learner model.\n",
        "\n",
        "To make the treatment effect estimation, two separate predictions need to be made using the trained model:\n",
        "* In the first prediction, the `treatment` variable is set to 1 for all the samples. This gives us the predicted outcome values if all the samples received the treatment.\n",
        "* In the second prediction, the `treatment` variable is set to 0 for all the samples. This gives us the predicted outcome values if none of the samples received the treatment."
      ],
      "metadata": {
        "id": "p1XWtl6Amrv6"
      }
    },
    {
      "cell_type": "code",
      "source": [
        "# Set treatment value to 1\n",
        "with_treatment = features.assign(treatment = 1)\n",
        "\n",
        "# With treatment predictions\n",
        "with_treatment_predict = s_learner.predict(with_treatment)\n",
        "\n",
        "# Set treatment value to 0\n",
        "without_treatment = features.assign(treatment = 0)\n",
        "\n",
        "# With treatment predictions\n",
        "without_treatment_predict = s_learner.predict(without_treatment)"
      ],
      "metadata": {
        "id": "gLcph7hVfQdB"
      },
      "execution_count": null,
      "outputs": []
    },
    {
      "cell_type": "markdown",
      "source": [
        "# Step 5: S-Learner Individual Treatment Effect (ITE)"
      ],
      "metadata": {
        "id": "lRF2Ld90iSCS"
      }
    },
    {
      "cell_type": "markdown",
      "source": [
        "In step 5, we will calculate the individual treatment effect (ITE) using the s-learner predictions.\n",
        "\n",
        "Individual treatment effect (ITE) is the difference between the predicted outcomes with and without treatment.\n",
        "\n",
        "After calculating the individual treatment effect (ITE), the data is saved in a dataframe."
      ],
      "metadata": {
        "id": "B2v5GSLAuees"
      }
    },
    {
      "cell_type": "code",
      "source": [
        "# ITE\n",
        "ite = with_treatment_predict - without_treatment_predict\n",
        "\n",
        "# Save ITE data in a pandas dataframe\n",
        "ite_df = pd.DataFrame({'ITE': ite, 'with_treatment_predict':with_treatment_predict, 'without_treatment_predict': without_treatment_predict})\n",
        "\n",
        "# Take a look at the data\n",
        "ite_df.head()"
      ],
      "metadata": {
        "colab": {
          "base_uri": "https://localhost:8080/",
          "height": 206
        },
        "id": "LEY8145HiZ5m",
        "outputId": "8ea55588-2305-4c2c-c19a-bbce209f35c2"
      },
      "execution_count": null,
      "outputs": [
        {
          "output_type": "execute_result",
          "data": {
            "text/plain": [
              "        ITE  with_treatment_predict  without_treatment_predict\n",
              "0 -0.022509                0.935674                   0.958183\n",
              "1 -0.560047                0.867569                   1.427616\n",
              "2 -0.150755                0.667450                   0.818205\n",
              "3  0.207543                1.372787                   1.165244\n",
              "4  0.134130                0.366198                   0.232068"
            ],
            "text/html": [
              "\n",
              "  <div id=\"df-103a770d-9b06-4a99-80cd-a4ccc14db3f8\">\n",
              "    <div class=\"colab-df-container\">\n",
              "      <div>\n",
              "<style scoped>\n",
              "    .dataframe tbody tr th:only-of-type {\n",
              "        vertical-align: middle;\n",
              "    }\n",
              "\n",
              "    .dataframe tbody tr th {\n",
              "        vertical-align: top;\n",
              "    }\n",
              "\n",
              "    .dataframe thead th {\n",
              "        text-align: right;\n",
              "    }\n",
              "</style>\n",
              "<table border=\"1\" class=\"dataframe\">\n",
              "  <thead>\n",
              "    <tr style=\"text-align: right;\">\n",
              "      <th></th>\n",
              "      <th>ITE</th>\n",
              "      <th>with_treatment_predict</th>\n",
              "      <th>without_treatment_predict</th>\n",
              "    </tr>\n",
              "  </thead>\n",
              "  <tbody>\n",
              "    <tr>\n",
              "      <th>0</th>\n",
              "      <td>-0.022509</td>\n",
              "      <td>0.935674</td>\n",
              "      <td>0.958183</td>\n",
              "    </tr>\n",
              "    <tr>\n",
              "      <th>1</th>\n",
              "      <td>-0.560047</td>\n",
              "      <td>0.867569</td>\n",
              "      <td>1.427616</td>\n",
              "    </tr>\n",
              "    <tr>\n",
              "      <th>2</th>\n",
              "      <td>-0.150755</td>\n",
              "      <td>0.667450</td>\n",
              "      <td>0.818205</td>\n",
              "    </tr>\n",
              "    <tr>\n",
              "      <th>3</th>\n",
              "      <td>0.207543</td>\n",
              "      <td>1.372787</td>\n",
              "      <td>1.165244</td>\n",
              "    </tr>\n",
              "    <tr>\n",
              "      <th>4</th>\n",
              "      <td>0.134130</td>\n",
              "      <td>0.366198</td>\n",
              "      <td>0.232068</td>\n",
              "    </tr>\n",
              "  </tbody>\n",
              "</table>\n",
              "</div>\n",
              "      <button class=\"colab-df-convert\" onclick=\"convertToInteractive('df-103a770d-9b06-4a99-80cd-a4ccc14db3f8')\"\n",
              "              title=\"Convert this dataframe to an interactive table.\"\n",
              "              style=\"display:none;\">\n",
              "        \n",
              "  <svg xmlns=\"http://www.w3.org/2000/svg\" height=\"24px\"viewBox=\"0 0 24 24\"\n",
              "       width=\"24px\">\n",
              "    <path d=\"M0 0h24v24H0V0z\" fill=\"none\"/>\n",
              "    <path d=\"M18.56 5.44l.94 2.06.94-2.06 2.06-.94-2.06-.94-.94-2.06-.94 2.06-2.06.94zm-11 1L8.5 8.5l.94-2.06 2.06-.94-2.06-.94L8.5 2.5l-.94 2.06-2.06.94zm10 10l.94 2.06.94-2.06 2.06-.94-2.06-.94-.94-2.06-.94 2.06-2.06.94z\"/><path d=\"M17.41 7.96l-1.37-1.37c-.4-.4-.92-.59-1.43-.59-.52 0-1.04.2-1.43.59L10.3 9.45l-7.72 7.72c-.78.78-.78 2.05 0 2.83L4 21.41c.39.39.9.59 1.41.59.51 0 1.02-.2 1.41-.59l7.78-7.78 2.81-2.81c.8-.78.8-2.07 0-2.86zM5.41 20L4 18.59l7.72-7.72 1.47 1.35L5.41 20z\"/>\n",
              "  </svg>\n",
              "      </button>\n",
              "      \n",
              "  <style>\n",
              "    .colab-df-container {\n",
              "      display:flex;\n",
              "      flex-wrap:wrap;\n",
              "      gap: 12px;\n",
              "    }\n",
              "\n",
              "    .colab-df-convert {\n",
              "      background-color: #E8F0FE;\n",
              "      border: none;\n",
              "      border-radius: 50%;\n",
              "      cursor: pointer;\n",
              "      display: none;\n",
              "      fill: #1967D2;\n",
              "      height: 32px;\n",
              "      padding: 0 0 0 0;\n",
              "      width: 32px;\n",
              "    }\n",
              "\n",
              "    .colab-df-convert:hover {\n",
              "      background-color: #E2EBFA;\n",
              "      box-shadow: 0px 1px 2px rgba(60, 64, 67, 0.3), 0px 1px 3px 1px rgba(60, 64, 67, 0.15);\n",
              "      fill: #174EA6;\n",
              "    }\n",
              "\n",
              "    [theme=dark] .colab-df-convert {\n",
              "      background-color: #3B4455;\n",
              "      fill: #D2E3FC;\n",
              "    }\n",
              "\n",
              "    [theme=dark] .colab-df-convert:hover {\n",
              "      background-color: #434B5C;\n",
              "      box-shadow: 0px 1px 3px 1px rgba(0, 0, 0, 0.15);\n",
              "      filter: drop-shadow(0px 1px 2px rgba(0, 0, 0, 0.3));\n",
              "      fill: #FFFFFF;\n",
              "    }\n",
              "  </style>\n",
              "\n",
              "      <script>\n",
              "        const buttonEl =\n",
              "          document.querySelector('#df-103a770d-9b06-4a99-80cd-a4ccc14db3f8 button.colab-df-convert');\n",
              "        buttonEl.style.display =\n",
              "          google.colab.kernel.accessAllowed ? 'block' : 'none';\n",
              "\n",
              "        async function convertToInteractive(key) {\n",
              "          const element = document.querySelector('#df-103a770d-9b06-4a99-80cd-a4ccc14db3f8');\n",
              "          const dataTable =\n",
              "            await google.colab.kernel.invokeFunction('convertToInteractive',\n",
              "                                                     [key], {});\n",
              "          if (!dataTable) return;\n",
              "\n",
              "          const docLinkHtml = 'Like what you see? Visit the ' +\n",
              "            '<a target=\"_blank\" href=https://colab.research.google.com/notebooks/data_table.ipynb>data table notebook</a>'\n",
              "            + ' to learn more about interactive tables.';\n",
              "          element.innerHTML = '';\n",
              "          dataTable['output_type'] = 'display_data';\n",
              "          await google.colab.output.renderOutput(dataTable, element);\n",
              "          const docLink = document.createElement('div');\n",
              "          docLink.innerHTML = docLinkHtml;\n",
              "          element.appendChild(docLink);\n",
              "        }\n",
              "      </script>\n",
              "    </div>\n",
              "  </div>\n",
              "  "
            ]
          },
          "metadata": {},
          "execution_count": 15
        }
      ]
    },
    {
      "cell_type": "markdown",
      "source": [
        "The histogram visualization of the individual treatment effect (ITE) shows a normal distribution.\n",
        "\n",
        "* The average treatment effect is around 0.5.\n",
        "* Most individuals in the dataset have a positive treatment effect.\n",
        "* Some individuals have negative treatment effects."
      ],
      "metadata": {
        "id": "Hxc4r3WMvD-o"
      }
    },
    {
      "cell_type": "code",
      "source": [
        "# visualization\n",
        "ite_df.hist(column ='ITE', bins=50, grid=True, figsize=(12, 8))"
      ],
      "metadata": {
        "colab": {
          "base_uri": "https://localhost:8080/",
          "height": 572
        },
        "id": "u-stoqBumpF1",
        "outputId": "e456c136-741b-4df0-9d6a-651892b7ddc9"
      },
      "execution_count": null,
      "outputs": [
        {
          "output_type": "execute_result",
          "data": {
            "text/plain": [
              "array([[<matplotlib.axes._subplots.AxesSubplot object at 0x7f52fe6ceed0>]],\n",
              "      dtype=object)"
            ]
          },
          "metadata": {},
          "execution_count": 48
        },
        {
          "output_type": "display_data",
          "data": {
            "text/plain": [
              "<Figure size 864x576 with 1 Axes>"
            ],
            "image/png": "[encoded data removed]"
          },
          "metadata": {}
        }
      ]
    },
    {
      "cell_type": "markdown",
      "source": [
        "# Step 6: S-Learner Average Treatment Effect (ATE)"
      ],
      "metadata": {
        "id": "rQMFGak3nlu0"
      }
    },
    {
      "cell_type": "markdown",
      "source": [
        "In step 6, we will estimate the average treatment effect (ATE) using the s-learner predictions.\n",
        "\n",
        "The average treatment effect (ATE) for the population is the average of the individual treatment effect (ITE). We can see that the average treatment effect (ATE) is 0.47.\n",
        "\n",
        "To learn more about the definition and calculation for the average treatment effect (ATE), please check out my previous tutorial [ATE vs CATE vs ATT vs ATC for Causal Inference](https://medium.com/grabngoinfo/ate-vs-cate-vs-att-vs-atc-for-causal-inference-998a577f2f8c).\n"
      ],
      "metadata": {
        "id": "FB4o_WbRpot1"
      }
    },
    {
      "cell_type": "code",
      "source": [
        "# Calculate ATE\n",
        "ATE = ite.mean()\n",
        "\n",
        "# Print out results\n",
        "print(f'The average treatment effect (ATE) is {ATE:.2f}')"
      ],
      "metadata": {
        "colab": {
          "base_uri": "https://localhost:8080/"
        },
        "id": "DWDNXMkjrbcd",
        "outputId": "6db7f6d7-63e5-4864-f6bd-bb07cb3567a7"
      },
      "execution_count": null,
      "outputs": [
        {
          "output_type": "stream",
          "name": "stdout",
          "text": [
            "The average treatment effect (ATE) is 0.47\n"
          ]
        }
      ]
    },
    {
      "cell_type": "markdown",
      "source": [
        "# Step 7: Customer Segmentation Using S-Learner Individual Treatment Effect (ITE)"
      ],
      "metadata": {
        "id": "nbr9aPZBmffS"
      }
    },
    {
      "cell_type": "markdown",
      "source": [
        "In step 7, we will talk about how to segment customers using individual treatment effect (ITE) from the s-learner.\n",
        "\n",
        "An uplift model divides customers into four groups based on the incremental change caused by the intervention. A common use of the uplift model is for marketing campaigns. The common treatments in a marketing campaign can be emails, displays, and promotions.\n",
        "* **Persuadables** are those who buy with treatment and do not buy without treatment.\n",
        "* **Lost Causes** are those who do not buy with or without treatment.\n",
        "* **Sure Things** are those who buy with or without treatment.\n",
        "* **Sleeping Dogs** are those who buy without treatment and do not buy with treatment.\n",
        "\n",
        "Based on the uplift model customer segmentation, we divide the individuals into three groups using their individual treatment effect (ITE).\n",
        "* `sleeping-dog` is a segment with the individual treatment effect (ITE) less than -0.5. These are customers who would have made the purchase if they did not receive and get annoyed by the marketing messages.\n",
        "* `persuadable` is a segment with the individual treatment effect (ITE) greater than 0.5. These are customers who would have made the purchase if they receive the marketing messages, but would not make the purchase if they did not receive the marketing messages.\n",
        "* `no_impact` is a segment with the individual treatment effect (ITE) between -0.5 and 0.5. Because their individual treatment effects (ITE) are close to 0, we consider the marketing messages do not have any impact on their purchasing decisions. This segment includes both lost causes and sure things groups."
      ],
      "metadata": {
        "id": "VzMEB-XKpRX2"
      }
    },
    {
      "cell_type": "code",
      "source": [
        "# Create the segmentation function\n",
        "def segmentation(x):\n",
        "  if x < -0.5:\n",
        "    return 'sleeping-dog'\n",
        "  elif x > 0.5:\n",
        "    return 'persuadable'\n",
        "  else:\n",
        "    return 'no_impact'\n",
        "\n",
        "# Apply the function\n",
        "ite_df['segment'] = ite_df['ITE'].apply(segmentation)\n",
        "\n",
        "# Take a look at the data\n",
        "ite_df.head()"
      ],
      "metadata": {
        "id": "UhtgmBfloFbM",
        "colab": {
          "base_uri": "https://localhost:8080/",
          "height": 206
        },
        "outputId": "91fc1385-1013-42a4-d74c-e0156bcc4b94"
      },
      "execution_count": null,
      "outputs": [
        {
          "output_type": "execute_result",
          "data": {
            "text/plain": [
              "        ITE  with_treatment_predict  without_treatment_predict       segment\n",
              "0 -0.022509                0.935674                   0.958183     no_impact\n",
              "1 -0.560047                0.867569                   1.427616  sleeping-dog\n",
              "2 -0.150755                0.667450                   0.818205     no_impact\n",
              "3  0.207543                1.372787                   1.165244     no_impact\n",
              "4  0.134130                0.366198                   0.232068     no_impact"
            ],
            "text/html": [
              "\n",
              "  <div id=\"df-530c567c-2cc1-458c-937b-610ead9e327a\">\n",
              "    <div class=\"colab-df-container\">\n",
              "      <div>\n",
              "<style scoped>\n",
              "    .dataframe tbody tr th:only-of-type {\n",
              "        vertical-align: middle;\n",
              "    }\n",
              "\n",
              "    .dataframe tbody tr th {\n",
              "        vertical-align: top;\n",
              "    }\n",
              "\n",
              "    .dataframe thead th {\n",
              "        text-align: right;\n",
              "    }\n",
              "</style>\n",
              "<table border=\"1\" class=\"dataframe\">\n",
              "  <thead>\n",
              "    <tr style=\"text-align: right;\">\n",
              "      <th></th>\n",
              "      <th>ITE</th>\n",
              "      <th>with_treatment_predict</th>\n",
              "      <th>without_treatment_predict</th>\n",
              "      <th>segment</th>\n",
              "    </tr>\n",
              "  </thead>\n",
              "  <tbody>\n",
              "    <tr>\n",
              "      <th>0</th>\n",
              "      <td>-0.022509</td>\n",
              "      <td>0.935674</td>\n",
              "      <td>0.958183</td>\n",
              "      <td>no_impact</td>\n",
              "    </tr>\n",
              "    <tr>\n",
              "      <th>1</th>\n",
              "      <td>-0.560047</td>\n",
              "      <td>0.867569</td>\n",
              "      <td>1.427616</td>\n",
              "      <td>sleeping-dog</td>\n",
              "    </tr>\n",
              "    <tr>\n",
              "      <th>2</th>\n",
              "      <td>-0.150755</td>\n",
              "      <td>0.667450</td>\n",
              "      <td>0.818205</td>\n",
              "      <td>no_impact</td>\n",
              "    </tr>\n",
              "    <tr>\n",
              "      <th>3</th>\n",
              "      <td>0.207543</td>\n",
              "      <td>1.372787</td>\n",
              "      <td>1.165244</td>\n",
              "      <td>no_impact</td>\n",
              "    </tr>\n",
              "    <tr>\n",
              "      <th>4</th>\n",
              "      <td>0.134130</td>\n",
              "      <td>0.366198</td>\n",
              "      <td>0.232068</td>\n",
              "      <td>no_impact</td>\n",
              "    </tr>\n",
              "  </tbody>\n",
              "</table>\n",
              "</div>\n",
              "      <button class=\"colab-df-convert\" onclick=\"convertToInteractive('df-530c567c-2cc1-458c-937b-610ead9e327a')\"\n",
              "              title=\"Convert this dataframe to an interactive table.\"\n",
              "              style=\"display:none;\">\n",
              "        \n",
              "  <svg xmlns=\"http://www.w3.org/2000/svg\" height=\"24px\"viewBox=\"0 0 24 24\"\n",
              "       width=\"24px\">\n",
              "    <path d=\"M0 0h24v24H0V0z\" fill=\"none\"/>\n",
              "    <path d=\"M18.56 5.44l.94 2.06.94-2.06 2.06-.94-2.06-.94-.94-2.06-.94 2.06-2.06.94zm-11 1L8.5 8.5l.94-2.06 2.06-.94-2.06-.94L8.5 2.5l-.94 2.06-2.06.94zm10 10l.94 2.06.94-2.06 2.06-.94-2.06-.94-.94-2.06-.94 2.06-2.06.94z\"/><path d=\"M17.41 7.96l-1.37-1.37c-.4-.4-.92-.59-1.43-.59-.52 0-1.04.2-1.43.59L10.3 9.45l-7.72 7.72c-.78.78-.78 2.05 0 2.83L4 21.41c.39.39.9.59 1.41.59.51 0 1.02-.2 1.41-.59l7.78-7.78 2.81-2.81c.8-.78.8-2.07 0-2.86zM5.41 20L4 18.59l7.72-7.72 1.47 1.35L5.41 20z\"/>\n",
              "  </svg>\n",
              "      </button>\n",
              "      \n",
              "  <style>\n",
              "    .colab-df-container {\n",
              "      display:flex;\n",
              "      flex-wrap:wrap;\n",
              "      gap: 12px;\n",
              "    }\n",
              "\n",
              "    .colab-df-convert {\n",
              "      background-color: #E8F0FE;\n",
              "      border: none;\n",
              "      border-radius: 50%;\n",
              "      cursor: pointer;\n",
              "      display: none;\n",
              "      fill: #1967D2;\n",
              "      height: 32px;\n",
              "      padding: 0 0 0 0;\n",
              "      width: 32px;\n",
              "    }\n",
              "\n",
              "    .colab-df-convert:hover {\n",
              "      background-color: #E2EBFA;\n",
              "      box-shadow: 0px 1px 2px rgba(60, 64, 67, 0.3), 0px 1px 3px 1px rgba(60, 64, 67, 0.15);\n",
              "      fill: #174EA6;\n",
              "    }\n",
              "\n",
              "    [theme=dark] .colab-df-convert {\n",
              "      background-color: #3B4455;\n",
              "      fill: #D2E3FC;\n",
              "    }\n",
              "\n",
              "    [theme=dark] .colab-df-convert:hover {\n",
              "      background-color: #434B5C;\n",
              "      box-shadow: 0px 1px 3px 1px rgba(0, 0, 0, 0.15);\n",
              "      filter: drop-shadow(0px 1px 2px rgba(0, 0, 0, 0.3));\n",
              "      fill: #FFFFFF;\n",
              "    }\n",
              "  </style>\n",
              "\n",
              "      <script>\n",
              "        const buttonEl =\n",
              "          document.querySelector('#df-530c567c-2cc1-458c-937b-610ead9e327a button.colab-df-convert');\n",
              "        buttonEl.style.display =\n",
              "          google.colab.kernel.accessAllowed ? 'block' : 'none';\n",
              "\n",
              "        async function convertToInteractive(key) {\n",
              "          const element = document.querySelector('#df-530c567c-2cc1-458c-937b-610ead9e327a');\n",
              "          const dataTable =\n",
              "            await google.colab.kernel.invokeFunction('convertToInteractive',\n",
              "                                                     [key], {});\n",
              "          if (!dataTable) return;\n",
              "\n",
              "          const docLinkHtml = 'Like what you see? Visit the ' +\n",
              "            '<a target=\"_blank\" href=https://colab.research.google.com/notebooks/data_table.ipynb>data table notebook</a>'\n",
              "            + ' to learn more about interactive tables.';\n",
              "          element.innerHTML = '';\n",
              "          dataTable['output_type'] = 'display_data';\n",
              "          await google.colab.output.renderOutput(dataTable, element);\n",
              "          const docLink = document.createElement('div');\n",
              "          docLink.innerHTML = docLinkHtml;\n",
              "          element.appendChild(docLink);\n",
              "        }\n",
              "      </script>\n",
              "    </div>\n",
              "  </div>\n",
              "  "
            ]
          },
          "metadata": {},
          "execution_count": 18
        }
      ]
    },
    {
      "cell_type": "markdown",
      "source": [
        "After creating the customer segments, we created a column in the dataframe. The visualization of the segments shows that nearly half of the individuals are persuadable, very few individuals are sleeping dogs, and more than half of people are not impacted by marketing campaigns.\n",
        "\n",
        "These segments can help optimize the marketing strategies and increase the return on investment (ROI)."
      ],
      "metadata": {
        "id": "sdStcO7g35CX"
      }
    },
    {
      "cell_type": "code",
      "source": [
        "# Visualization\n",
        "sns.countplot(x=ite_df['segment'])"
      ],
      "metadata": {
        "colab": {
          "base_uri": "https://localhost:8080/",
          "height": 322
        },
        "id": "aRTHvxLUtKo6",
        "outputId": "e1f4f093-2513-4316-e65a-cbaea8b6523d"
      },
      "execution_count": null,
      "outputs": [
        {
          "output_type": "execute_result",
          "data": {
            "text/plain": [
              "<matplotlib.axes._subplots.AxesSubplot at 0x7f995f1c2910>"
            ]
          },
          "metadata": {},
          "execution_count": 19
        },
        {
          "output_type": "display_data",
          "data": {
            "text/plain": [
              "<Figure size 432x288 with 1 Axes>"
            ],
            "image/png": "[encoded data removed]"
          },
          "metadata": {}
        }
      ]
    },
    {
      "cell_type": "markdown",
      "source": [
        "If you prefer to use a python package instead of manually building an S-learner, please check out the tutorial [Explainable S-Learner Uplift Model Using Python Package CausalML](https://medium.com/grabngoinfo/explainable-s-learner-uplift-model-using-python-package-causalml-a3c2bed3497c)"
      ],
      "metadata": {
        "id": "t7dg7f-ffKtZ"
      }
    },
    {
      "cell_type": "markdown",
      "source": [
        "# Recommended Tutorials"
      ],
      "metadata": {
        "id": "HVNCqd-SD35i"
      }
    },
    {
      "cell_type": "markdown",
      "source": [
        "- [GrabNGoInfo Machine Learning Tutorials Inventory](https://medium.com/grabngoinfo/grabngoinfo-machine-learning-tutorials-inventory-9b9d78ebdd67)\n",
        "- [ATE vs CATE vs ATT vs ATC for Causal Inference](https://medium.com/grabngoinfo/ate-vs-cate-vs-att-vs-atc-for-causal-inference-998a577f2f8c)\n",
        "- [Explainable S-Learner Uplift Model Using Python Package CausalML](https://medium.com/grabngoinfo/explainable-s-learner-uplift-model-using-python-package-causalml-a3c2bed3497c)\n",
        "- [Time Series Causal Impact Analysis in Python](https://medium.com/grabngoinfo/time-series-causal-impact-analysis-in-python-63eacb1df5cc)\n",
        "- [3 Ways for Multiple Time Series Forecasting Using Prophet in Python](https://medium.com/p/3-ways-for-multiple-time-series-forecasting-using-prophet-in-python-7a0709a117f9)\n",
        "- [Four Oversampling And Under-Sampling Methods For Imbalanced Classification Using Python](https://medium.com/p/four-oversampling-and-under-sampling-methods-for-imbalanced-classification-using-python-7304aedf9037)\n",
        "- [Multivariate Time Series Forecasting with Seasonality and Holiday Effect Using Prophet in Python](https://medium.com/p/multivariate-time-series-forecasting-with-seasonality-and-holiday-effect-using-prophet-in-python-d5d4150eeb57)\n",
        "- [Time Series Anomaly Detection Using Prophet in Python](https://medium.com/grabngoinfo/time-series-anomaly-detection-using-prophet-in-python-877d2b7b14b4)\n",
        "- [Autoencoder For Anomaly Detection Using Tensorflow Keras](https://pub.towardsai.net/autoencoder-for-anomaly-detection-using-tensorflow-keras-7fdfa9f3ad99)\n",
        "- [Databricks Mount To AWS S3 And Import Data](https://medium.com/grabngoinfo/databricks-mount-to-aws-s3-and-import-data-4100621a63fd)\n",
        "- [Hyperparameter Tuning For XGBoost](https://medium.com/p/hyperparameter-tuning-for-xgboost-91449869c57e)\n",
        "- [One-Class SVM For Anomaly Detection](https://medium.com/p/one-class-svm-for-anomaly-detection-6c97fdd6d8af)\n",
        "- [Sentiment Analysis Without Modeling: TextBlob vs. VADER vs. Flair](https://medium.com/p/sentiment-analysis-without-modeling-textblob-vs-vader-vs-flair-657b7af855f4)\n",
        "- [Recommendation System: User-Based Collaborative Filtering](https://medium.com/p/recommendation-system-user-based-collaborative-filtering-a2e76e3e15c4)\n",
        "- [How to detect outliers | Data Science Interview Questions and Answers](https://medium.com/p/how-to-detect-outliers-data-science-interview-questions-and-answers-1e400284f6b4)\n",
        "- [Causal Inference One-to-one Matching on Confounders Using R for Python Users](https://medium.com/grabngoinfo/causal-inference-one-to-one-matching-on-confounders-using-python-and-r-1baf7fb105f3)\n",
        "- [Gaussian Mixture Model (GMM) for Anomaly Detection](https://medium.com/grabngoinfo/gaussian-mixture-model-gmm-for-anomaly-detection-e8360e6f4009)\n",
        "- [Time Series Anomaly Detection Using Prophet in Python](https://medium.com/p/time-series-anomaly-detection-using-prophet-in-python-877d2b7b14b4)\n",
        "- [How to Use R with Google Colab Notebook](https://medium.com/p/how-to-use-r-with-google-colab-notebook-610c3a2f0eab)"
      ],
      "metadata": {
        "id": "zIQFDbQoD7L7"
      }
    },
    {
      "cell_type": "markdown",
      "source": [
        "# References"
      ],
      "metadata": {
        "id": "18JWu_NZ8bGN"
      }
    },
    {
      "cell_type": "markdown",
      "source": [
        "* Lo, V. S. Y. (2002); The True Lift Model, ACM SIGKDD Explorations Newsletter, Vol. 4, No. 2, 78–86, available at http://citeseerx.ist.psu.edu/viewdoc/download;jsessionid=4FD247B4987CBF2E29186DACE0D40C3D?doi=10.1.1.99.7064&rep=rep1&type=pdf\n",
        "* [CausalML documentation](https://github.com/uber/causalml/)"
      ],
      "metadata": {
        "id": "TlHTnZaQ8eFV"
      }
    }
  ]
}