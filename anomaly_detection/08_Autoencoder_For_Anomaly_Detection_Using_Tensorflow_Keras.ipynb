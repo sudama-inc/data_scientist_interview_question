{
  "nbformat": 4,
  "nbformat_minor": 0,
  "metadata": {
    "colab": {
      "provenance": []
    },
    "kernelspec": {
      "name": "python3",
      "display_name": "Python 3"
    },
    "language_info": {
      "name": "python"
    }
  },
  "cells": [
    {
      "cell_type": "markdown",
      "source": [
        "# Resources"
      ],
      "metadata": {
        "id": "ONakXKBIAmZi"
      }
    },
    {
      "cell_type": "markdown",
      "source": [
        "\n",
        "* This notebook is for the blog post [Autoencoder For Anomaly Detection Using Tensorflow Keras](https://medium.com/towards-artificial-intelligence/autoencoder-for-anomaly-detection-using-tensorflow-keras-7fdfa9f3ad99)\n",
        "* Video tutorial on [YouTube](https://www.youtube.com/watch?v=IsLXROuJoEo&list=PLVppujud2yJo0qnXjWVAa8h7fxbFJHtfJ&index=7)\n",
        "* More video tutorials on [imbalanced modeling and anomaly detection](https://www.youtube.com/playlist?list=PLVppujud2yJo0qnXjWVAa8h7fxbFJHtfJ)\n",
        "* More blog posts on [imbalanced modeling and anomaly detection](https://medium.com/@AmyGrabNGoInfo/list/databricks-and-pyspark-7b59768e202d)\n",
        "\n",
        "\n",
        "For more information about data science and machine learning, please check out my [YouTube channel](https://www.youtube.com/channel/UCmbA7XB6Wb7bLwJw9ARPcYg), [Medium Page](https://medium.com/@AmyGrabNGoInfo) and [GrabNGoInfo.com](https://grabngoinfo.com/tutorials/), or follow GrabNGoInfo on [LinkedIn](https://www.linkedin.com/company/grabngoinfo/)."
      ],
      "metadata": {
        "id": "Lfp1CrPg5_xA"
      }
    },
    {
      "cell_type": "markdown",
      "source": [
        "# Intro"
      ],
      "metadata": {
        "id": "sGEHQpw657Ri"
      }
    },
    {
      "cell_type": "markdown",
      "metadata": {
        "id": "E-4pO4yrdDWn"
      },
      "source": [
        "Autoencoder is an unsupervised neural network model that uses reconstruction error to detect anomalies or outliers. The reconstruction error is the difference between the reconstructed data and the input data.\n",
        "\n",
        "Autoencoder uses only normal data to train the model and all data to make predictions. Therefore, we expect outliers to have higher reconstruction errors because they are different from the regular data.\n",
        "\n",
        "In this article, we will use the Python `Tensorflow` `Keras` library to illustrate the process of identifying outliers using an autoencoder.  To be specific, we will cover:\n",
        "* What is the algorithm behind autoencoder for anomaly detection?\n",
        "* How to train an autoencoder model?\n",
        "* How to set threshold for autoencoder anomaly detection?\n",
        "* How to evaluate autoencoder anomaly detection performance?\n",
        "\n",
        "Let's get started!"
      ]
    },
    {
      "cell_type": "markdown",
      "metadata": {
        "id": "ypwd1NbA7OC_"
      },
      "source": [
        "# Step 1: Import Libraries"
      ]
    },
    {
      "cell_type": "code",
      "metadata": {
        "id": "5pgi-0EuahBS"
      },
      "source": [
        "# Synthetic dataset\n",
        "from sklearn.datasets import make_classification\n",
        "\n",
        "# Data processing\n",
        "import pandas as pd\n",
        "import numpy as np\n",
        "from collections import Counter\n",
        "\n",
        "# Visualization\n",
        "import matplotlib.pyplot as plt\n",
        "import seaborn as sns\n",
        "\n",
        "# Model and performance\n",
        "from sklearn.model_selection import train_test_split\n",
        "import tensorflow as tf\n",
        "from tensorflow.keras import layers, losses\n",
        "from sklearn.metrics import classification_report"
      ],
      "execution_count": null,
      "outputs": []
    },
    {
      "cell_type": "markdown",
      "metadata": {
        "id": "hvrdGnj-7ZUf"
      },
      "source": [
        "# Step 2: Create Dataset With Anomalies"
      ]
    },
    {
      "cell_type": "markdown",
      "metadata": {
        "id": "IgTssYQl7xiE"
      },
      "source": [
        "Using make_classification from the sklearn library, We created two classes with the ratio between the majority class and the minority class being 0.995:0.005. 32 informative features were made as predictors. We did not include any redundant or repeated features in this dataset."
      ]
    },
    {
      "cell_type": "code",
      "metadata": {
        "id": "7vlEY-A27qzR"
      },
      "source": [
        "# Create an imbalanced dataset\n",
        "X, y = make_classification(n_samples=100000, n_features=32, n_informative=32,\n",
        "                           n_redundant=0, n_repeated=0, n_classes=2,\n",
        "                           n_clusters_per_class=1,\n",
        "                           weights=[0.995, 0.005],\n",
        "                           class_sep=0.5, random_state=0)"
      ],
      "execution_count": null,
      "outputs": []
    },
    {
      "cell_type": "markdown",
      "metadata": {
        "id": "My6BkRWY8RRP"
      },
      "source": [
        "# Step 3: Train Test Split"
      ]
    },
    {
      "cell_type": "markdown",
      "metadata": {
        "id": "_No9kzCn8aqi"
      },
      "source": [
        "In this step, we split the dataset into 80% training data and 20% validation data. random_state ensures that we have the same train test split every time. The seed number for random_state does not have to be 42, and it can be any number."
      ]
    },
    {
      "cell_type": "code",
      "metadata": {
        "colab": {
          "base_uri": "https://localhost:8080/"
        },
        "id": "Xwj-0v4y7r69",
        "outputId": "a517d2e2-bc86-4a2d-b557-0b6f254fb10d"
      },
      "source": [
        "# Train test split\n",
        "X_train, X_test, y_train, y_test = train_test_split(X, y, test_size=0.2, random_state=42)\n",
        "\n",
        "# Check the number of records\n",
        "print('The number of records in the training dataset is', X_train.shape[0])\n",
        "print('The number of records in the test dataset is', X_test.shape[0])\n",
        "print(f\"The training dataset has {sorted(Counter(y_train).items())[0][1]} records for the majority class and {sorted(Counter(y_train).items())[1][1]} records for the minority class.\")"
      ],
      "execution_count": null,
      "outputs": [
        {
          "output_type": "stream",
          "name": "stdout",
          "text": [
            "The number of records in the training dataset is 80000\n",
            "The number of records in the test dataset is 20000\n",
            "The training dataset has 79200 records for the majority class and 800 records for the minority class.\n"
          ]
        }
      ]
    },
    {
      "cell_type": "markdown",
      "metadata": {
        "id": "l2hlXvig8kfF"
      },
      "source": [
        "The train test split gives us 80,000 records for the training dataset and 20,000 for the validation dataset. And we have 79,200 data points from the majority class and 800 from the minority class in the training dataset. Minority class data points are outliers or anomalies."
      ]
    },
    {
      "cell_type": "markdown",
      "metadata": {
        "id": "Sc0pkJGualRp"
      },
      "source": [
        "# Step 4: Autoencoder Algorithm For Anomaly Detection"
      ]
    },
    {
      "cell_type": "markdown",
      "metadata": {
        "id": "WXDke4xld8bC"
      },
      "source": [
        "The Autoencoder model for anomaly detection has six steps. The first three steps are for model training, and the last three steps are for model prediction.\n",
        "\n",
        "* Step 1 is the encoder step. The essential information is extracted by a neural network model in this step.\n",
        "* Step 2 is the decoder step. In this step, the model reconstructs the data using the extracted information.\n",
        "* Step 3: Iterate step 1 and step 2 to adjust the model to minimize the difference between input and reconstructed output, until we get good reconstruction results for the training dataset.\n",
        "* Step 4: Make predictions on a dataset that includes outliers.\n",
        "* Step 5: Set up a threshold for outliers/anomalies by comparing the differences between the autoencoder model reconstruction value and the actual value.\n",
        "* Step 6: Identify the data points with the difference higher than the threshold to be outliers or anomalies."
      ]
    },
    {
      "cell_type": "markdown",
      "metadata": {
        "id": "ZeBDa85ualOU"
      },
      "source": [
        "# Step 5: Autoencoder Model Training"
      ]
    },
    {
      "cell_type": "markdown",
      "metadata": {
        "id": "uNH09SwfigEt"
      },
      "source": [
        "The autoencoder model trains on the normal dataset, so we must first separate the expected data from the anomaly data.\n",
        "\n",
        "Then we created the input layer, encoder layers, and decoder layers.\n",
        "\n",
        "In the input layer, we specified the shape of the dataset. Because the modeling dataset has 32 features, the shape is 32 here.\n",
        "\n",
        "The encoder consists of 3 layers with 16, 8, and 4 neurons, respectively. Note that the encoder requires the number of neurons to decrease with the layers. The last layer in the encoder is the size of the encoded representation, and it is also called the bottleneck.\n",
        "\n",
        "The decoder consists of 3 layers with 8, 16, and 32 neurons, respectively. Opposite from the encoder, the decoder requires the number of neurons to increase with the layers. The output layer in the decoder has the same size as the input layer.\n",
        "\n",
        "The `relu` activation function is used for each layer except for the decoder output layer. `relu` is a popular activation function, but you can try other activation functions and compare the model performance.\n",
        "\n",
        "After defining the input, encoder, and decoder layers, we create the autoencoder model to combine the layers."
      ]
    },
    {
      "cell_type": "code",
      "metadata": {
        "id": "htDFCox6iNjU"
      },
      "source": [
        "# Keep only the normal data for the training dataset\n",
        "X_train_normal = X_train[np.where(y_train == 0)]\n",
        "\n",
        "# Input layer\n",
        "input = tf.keras.layers.Input(shape=(32,))\n",
        "\n",
        "# Encoder layers\n",
        "encoder = tf.keras.Sequential([\n",
        "  layers.Dense(16, activation='relu'),\n",
        "  layers.Dense(8, activation='relu'),\n",
        "  layers.Dense(4, activation='relu')])(input)\n",
        "\n",
        "# Decoder layers\n",
        "decoder = tf.keras.Sequential([\n",
        "      layers.Dense(8, activation=\"relu\"),\n",
        "      layers.Dense(16, activation=\"relu\"),\n",
        "      layers.Dense(32, activation=\"sigmoid\")])(encoder)\n",
        "\n",
        "# Create the autoencoder\n",
        "autoencoder = tf.keras.Model(inputs=input, outputs=decoder)"
      ],
      "execution_count": null,
      "outputs": []
    },
    {
      "cell_type": "markdown",
      "metadata": {
        "id": "r7d6TkwGVMZr"
      },
      "source": [
        "After defining the input, encoder, and decoder layers, we create the autoencoder model to combine the layers.\n",
        "\n",
        "After creating the autoencoder model, we compile the model with the optimizer of `adam` and the loss of `mae` (Mean Absolute Error).\n",
        "\n",
        "When fitting the autoencoder model, we can see that the input and output datasets are the same, which is the dataset that contains only the normal data points.\n",
        "\n",
        "The validation data is the testing dataset that contains both normal and anomaly data points.\n",
        "\n",
        "The `epochs` of 20 and `batch_size` of 64 mean the model uses 64 datapoints to update the weights in each iteration, and the model will go through the whole training dataset 20 times.\n",
        "\n",
        "`shuffle=True` will shuffle the dataset before each epoch."
      ]
    },
    {
      "cell_type": "code",
      "metadata": {
        "colab": {
          "base_uri": "https://localhost:8080/"
        },
        "id": "1hZHaPzl0361",
        "outputId": "dbe7b650-e62d-4449-d6fc-5fc9a076ae37"
      },
      "source": [
        "# Compile the autoencoder\n",
        "autoencoder.compile(optimizer='adam', loss='mae')\n",
        "\n",
        "# Fit the autoencoder\n",
        "history = autoencoder.fit(X_train_normal, X_train_normal,\n",
        "          epochs=20,\n",
        "          batch_size=64,\n",
        "          validation_data=(X_test, X_test),\n",
        "          shuffle=True)"
      ],
      "execution_count": null,
      "outputs": [
        {
          "output_type": "stream",
          "name": "stdout",
          "text": [
            "Epoch 1/20\n",
            "1238/1238 [==============================] - 2s 1ms/step - loss: 2.5375 - val_loss: 2.5047\n",
            "Epoch 2/20\n",
            "1238/1238 [==============================] - 2s 1ms/step - loss: 2.4882 - val_loss: 2.4829\n",
            "Epoch 3/20\n",
            "1238/1238 [==============================] - 2s 1ms/step - loss: 2.4769 - val_loss: 2.4791\n",
            "Epoch 4/20\n",
            "1238/1238 [==============================] - 2s 2ms/step - loss: 2.4735 - val_loss: 2.4753\n",
            "Epoch 5/20\n",
            "1238/1238 [==============================] - 2s 1ms/step - loss: 2.4709 - val_loss: 2.4731\n",
            "Epoch 6/20\n",
            "1238/1238 [==============================] - 2s 1ms/step - loss: 2.4687 - val_loss: 2.4715\n",
            "Epoch 7/20\n",
            "1238/1238 [==============================] - 2s 1ms/step - loss: 2.4670 - val_loss: 2.4702\n",
            "Epoch 8/20\n",
            "1238/1238 [==============================] - 2s 1ms/step - loss: 2.4658 - val_loss: 2.4692\n",
            "Epoch 9/20\n",
            "1238/1238 [==============================] - 2s 1ms/step - loss: 2.4650 - val_loss: 2.4682\n",
            "Epoch 10/20\n",
            "1238/1238 [==============================] - 2s 1ms/step - loss: 2.4642 - val_loss: 2.4673\n",
            "Epoch 11/20\n",
            "1238/1238 [==============================] - 2s 1ms/step - loss: 2.4635 - val_loss: 2.4663\n",
            "Epoch 12/20\n",
            "1238/1238 [==============================] - 2s 1ms/step - loss: 2.4628 - val_loss: 2.4658\n",
            "Epoch 13/20\n",
            "1238/1238 [==============================] - 2s 1ms/step - loss: 2.4621 - val_loss: 2.4658\n",
            "Epoch 14/20\n",
            "1238/1238 [==============================] - 2s 1ms/step - loss: 2.4613 - val_loss: 2.4642\n",
            "Epoch 15/20\n",
            "1238/1238 [==============================] - 2s 1ms/step - loss: 2.4604 - val_loss: 2.4635\n",
            "Epoch 16/20\n",
            "1238/1238 [==============================] - 2s 1ms/step - loss: 2.4595 - val_loss: 2.4624\n",
            "Epoch 17/20\n",
            "1238/1238 [==============================] - 2s 1ms/step - loss: 2.4585 - val_loss: 2.4614\n",
            "Epoch 18/20\n",
            "1238/1238 [==============================] - 2s 1ms/step - loss: 2.4577 - val_loss: 2.4612\n",
            "Epoch 19/20\n",
            "1238/1238 [==============================] - 2s 1ms/step - loss: 2.4568 - val_loss: 2.4602\n",
            "Epoch 20/20\n",
            "1238/1238 [==============================] - 2s 1ms/step - loss: 2.4560 - val_loss: 2.4593\n"
          ]
        }
      ]
    },
    {
      "cell_type": "markdown",
      "metadata": {
        "id": "Po7RcTZnZHMT"
      },
      "source": [
        "This chart visualizes the training and validation loss changes during the model fitting. The x-axis is the number of epochs, and the y axis is the loss. We can see that both training and validation losses decrease with the increase of epochs."
      ]
    },
    {
      "cell_type": "code",
      "metadata": {
        "colab": {
          "base_uri": "https://localhost:8080/",
          "height": 283
        },
        "id": "9AbJwCmA1TG9",
        "outputId": "0a44937a-8085-4dd6-e78c-3f2550ac3470"
      },
      "source": [
        "plt.plot(history.history[\"loss\"], label=\"Training Loss\")\n",
        "plt.plot(history.history[\"val_loss\"], label=\"Validation Loss\")\n",
        "plt.legend()"
      ],
      "execution_count": null,
      "outputs": [
        {
          "output_type": "execute_result",
          "data": {
            "text/plain": [
              "<matplotlib.legend.Legend at 0x7fe2a770d750>"
            ]
          },
          "metadata": {},
          "execution_count": 24
        },
        {
          "output_type": "display_data",
          "data": {
            "image/png": "[encoded data removed]",
            "text/plain": [
              "<Figure size 432x288 with 1 Axes>"
            ]
          },
          "metadata": {
            "needs_background": "light"
          }
        }
      ]
    },
    {
      "cell_type": "markdown",
      "metadata": {
        "id": "VctK8kKdalK-"
      },
      "source": [
        "# Step 6: Autoencoder Anomaly Detection Threshold"
      ]
    },
    {
      "cell_type": "markdown",
      "metadata": {
        "id": "UH8nHneNalcX"
      },
      "source": [
        "Now that we have an autoencoder model, let's use it to predict the outliers.\n",
        "\n",
        "Firstly, we use `.predict` to get the reconstruction value for the testing data set containing the usual data points and the outliers.\n",
        "\n",
        "Then we calculate the loss value between actual and reconstruction using mean absolute error.\n",
        "\n",
        "After that, a threshold is set to identify the outliers. This threshold can be based on percentile, standard deviation, or other methods. We use 98% loss as the threshold to identify 2% of the data as outliers in this example.\n",
        "\n",
        "The visualization chart shows that the prediction loss is close to a normal distribution with a mean of around 2.5. The prediction loss threshold for 2% of outliers is about 3.5."
      ]
    },
    {
      "cell_type": "code",
      "metadata": {
        "colab": {
          "base_uri": "https://localhost:8080/",
          "height": 299
        },
        "id": "8ydLz03Z16bl",
        "outputId": "d93d4782-dbf5-4acb-ff41-03588b93226e"
      },
      "source": [
        "# Predict anomalies/outliers in the training dataset\n",
        "prediction = autoencoder.predict(X_test)\n",
        "\n",
        "# Get the mean absolute error between actual and reconstruction/prediction\n",
        "prediction_loss = tf.keras.losses.mae(prediction, X_test)\n",
        "\n",
        "# Check the prediction loss threshold for 2% of outliers\n",
        "loss_threshold = np.percentile(prediction_loss, 98)\n",
        "print(f'The prediction loss threshold for 2% of outliers is {loss_threshold:.2f}')\n",
        "\n",
        "# Visualize the threshold\n",
        "sns.histplot(prediction_loss, bins=30, alpha=0.8)\n",
        "plt.axvline(x=loss_threshold, color='orange')"
      ],
      "execution_count": null,
      "outputs": [
        {
          "output_type": "stream",
          "name": "stdout",
          "text": [
            "The prediction loss threshold for 2% of outliers is 3.46\n"
          ]
        },
        {
          "output_type": "execute_result",
          "data": {
            "text/plain": [
              "<matplotlib.lines.Line2D at 0x7fe29f40d750>"
            ]
          },
          "metadata": {},
          "execution_count": 42
        },
        {
          "output_type": "display_data",
          "data": {
            "image/png": "[encoded data removed]",
            "text/plain": [
              "<Figure size 432x288 with 1 Axes>"
            ]
          },
          "metadata": {
            "needs_background": "light"
          }
        }
      ]
    },
    {
      "cell_type": "markdown",
      "metadata": {
        "id": "dhCrsu1EfNQ0"
      },
      "source": [
        "# Step 7: Autoencoder Anomaly Dectection Performance"
      ]
    },
    {
      "cell_type": "markdown",
      "metadata": {
        "id": "Yh5viNnlgs2j"
      },
      "source": [
        "Sometimes the dataset has the ground truth label for the anomalies, and the dataset often does not. When there is a label for anomalies, we can evaluate the model performance.\n",
        "\n",
        "Based on the threshold we identified in the previous step, we predicted normal data points if the prediction loss is less than the threshold. Otherwise, we predict the data point to be an outlier or anomaly. We label the normal prediction 0 and outlier prediction 1 to be consistent with the ground truth label."
      ]
    },
    {
      "cell_type": "code",
      "metadata": {
        "colab": {
          "base_uri": "https://localhost:8080/"
        },
        "id": "TT_Jb2a0FLQm",
        "outputId": "ddc272f2-cb39-4a83-bccb-802afad29233"
      },
      "source": [
        "# Check the model performance at 2% threshold\n",
        "threshold_prediction = [0 if i < loss_threshold else 1 for i in prediction_loss]\n",
        "\n",
        "# # Check the prediction performance\n",
        "print(classification_report(y_test, threshold_prediction))"
      ],
      "execution_count": null,
      "outputs": [
        {
          "output_type": "stream",
          "name": "stdout",
          "text": [
            "              precision    recall  f1-score   support\n",
            "\n",
            "           0       0.99      0.98      0.98     19803\n",
            "           1       0.01      0.01      0.01       197\n",
            "\n",
            "    accuracy                           0.97     20000\n",
            "   macro avg       0.50      0.50      0.50     20000\n",
            "weighted avg       0.98      0.97      0.98     20000\n",
            "\n"
          ]
        }
      ]
    },
    {
      "cell_type": "markdown",
      "metadata": {
        "id": "uKXCVH9hkdx2"
      },
      "source": [
        "The recall value of 0.01 shows that around 1% of the outliers were captured by the autoencoder."
      ]
    },
    {
      "cell_type": "markdown",
      "metadata": {
        "id": "fWsd_XU_k_n3"
      },
      "source": [
        "# Step 8: Put All Code Together"
      ]
    },
    {
      "cell_type": "code",
      "metadata": {
        "id": "CJdZ-lxrlLTk"
      },
      "source": [
        "###### Step 1: Import Libraries\n",
        "\n",
        "# Synthetic dataset\n",
        "from sklearn.datasets import make_classification\n",
        "\n",
        "# Data processing\n",
        "import pandas as pd\n",
        "import numpy as np\n",
        "from collections import Counter\n",
        "\n",
        "# Visualization\n",
        "import matplotlib.pyplot as plt\n",
        "import seaborn as sns\n",
        "\n",
        "# Model and performance\n",
        "import tensorflow as tf\n",
        "from tensorflow.keras import layers, losses\n",
        "from sklearn.model_selection import train_test_split\n",
        "from sklearn.metrics import classification_report\n",
        "\n",
        "\n",
        "###### Step 2: Create Dataset With Anomalies\n",
        "\n",
        "# Create an imbalanced dataset\n",
        "X, y = make_classification(n_samples=100000, n_features=32, n_informative=32,\n",
        "                           n_redundant=0, n_repeated=0, n_classes=2,\n",
        "                           n_clusters_per_class=1,\n",
        "                           weights=[0.995, 0.005],\n",
        "                           class_sep=0.5, random_state=0)\n",
        "\n",
        "\n",
        "###### Step 3: Train Test Split\n",
        "\n",
        "# Train test split\n",
        "X_train, X_test, y_train, y_test = train_test_split(X, y, test_size=0.2, random_state=42)\n",
        "\n",
        "# Check the number of records\n",
        "print('The number of records in the training dataset is', X_train.shape[0])\n",
        "print('The number of records in the test dataset is', X_test.shape[0])\n",
        "print(f\"The training dataset has {sorted(Counter(y_train).items())[0][1]} records for the majority class and {sorted(Counter(y_train).items())[1][1]} records for the minority class.\")\n",
        "\n",
        "\n",
        "###### Step 4: Autoencoder Algorithm For Anomaly Detection\n",
        "\n",
        "# No code for this step\n",
        "\n",
        "\n",
        "###### Step 5: Autoencoder Model Training\n",
        "\n",
        "# Keep only the normal data for the training dataset\n",
        "X_train_normal = X_train[np.where(y_train == 0)]\n",
        "\n",
        "# Input layer\n",
        "input = tf.keras.layers.Input(shape=(32,))\n",
        "\n",
        "# Encoder layers\n",
        "encoder = tf.keras.Sequential([\n",
        "  layers.Dense(16, activation='relu'),\n",
        "  layers.Dense(8, activation='relu'),\n",
        "  layers.Dense(4, activation='relu')])(input)\n",
        "\n",
        "# Decoder layers\n",
        "decoder = tf.keras.Sequential([\n",
        "      layers.Dense(8, activation=\"relu\"),\n",
        "      layers.Dense(16, activation=\"relu\"),\n",
        "      layers.Dense(32, activation=\"sigmoid\")])(encoder)\n",
        "\n",
        "# Create the autoencoder\n",
        "autoencoder = tf.keras.Model(inputs=input, outputs=decoder)\n",
        "\n",
        "\n",
        "###### Step 6: Autoencoder Anomaly Detection Threshold\n",
        "\n",
        "# Predict anomalies/outliers in the training dataset\n",
        "prediction = autoencoder.predict(X_test)\n",
        "\n",
        "# Get the mean absolute error between actual and reconstruction/prediction\n",
        "prediction_loss = tf.keras.losses.mae(prediction, X_test)\n",
        "\n",
        "# Check the prediction loss threshold for 2% of outliers\n",
        "loss_threshold = np.percentile(prediction_loss, 98)\n",
        "print(f'The prediction loss threshold for 2% of outliers is {loss_threshold:.2f}')\n",
        "\n",
        "# Visualize the threshold\n",
        "sns.histplot(prediction_loss, bins=30, alpha=0.8)\n",
        "plt.axvline(x=loss_threshold, color='orange')\n",
        "\n",
        "\n",
        "###### Step 7: Autoencoder Anomaly Dectection Performance\n",
        "\n",
        "# Check the model performance at 2% threshold\n",
        "threshold_prediction = [0 if i < loss_threshold else 1 for i in prediction_loss]\n",
        "\n",
        "# # Check the prediction performance\n",
        "print(classification_report(y_test, threshold_prediction))"
      ],
      "execution_count": null,
      "outputs": []
    },
    {
      "cell_type": "markdown",
      "metadata": {
        "id": "oGUTkJUWlIx4"
      },
      "source": [
        "# Summary"
      ]
    },
    {
      "cell_type": "markdown",
      "metadata": {
        "id": "SjAutioClMsh"
      },
      "source": [
        "In this article, we went through the autoencoder neural network model for anomaly detection.\n",
        "\n",
        "Using the Tensorflow Keras API in Python, we covered\n",
        "* What is autoencoder?\n",
        "* What is the algorithm behind autoencoder for anomaly detection?\n",
        "* How to train an autoencoder model?\n",
        "* How to set threshold for autoencoder anomaly detection?\n",
        "* How to evaluate autoencoder anomaly detection performance?"
      ]
    },
    {
      "cell_type": "markdown",
      "source": [
        "# Recommended Tutorials"
      ],
      "metadata": {
        "id": "GEhRUYTN62zo"
      }
    },
    {
      "cell_type": "markdown",
      "source": [
        "- [GrabNGoInfo Machine Learning Tutorials Inventory](https://medium.com/grabngoinfo/grabngoinfo-machine-learning-tutorials-inventory-9b9d78ebdd67)\n",
        "- [Hierarchical Topic Model for Airbnb Reviews](https://medium.com/p/hierarchical-topic-model-for-airbnb-reviews-f772eaa30434)\n",
        "- [3 Ways for Multiple Time Series Forecasting Using Prophet in Python](https://medium.com/p/3-ways-for-multiple-time-series-forecasting-using-prophet-in-python-7a0709a117f9)\n",
        "- [Time Series Anomaly Detection Using Prophet in Python](https://medium.com/grabngoinfo/time-series-anomaly-detection-using-prophet-in-python-877d2b7b14b4)\n",
        "- [Time Series Causal Impact Analysis in Python](https://medium.com/grabngoinfo/time-series-causal-impact-analysis-in-python-63eacb1df5cc)\n",
        "- [Hyperparameter Tuning For XGBoost](https://medium.com/p/hyperparameter-tuning-for-xgboost-91449869c57e)\n",
        "- [Four Oversampling And Under-Sampling Methods For Imbalanced Classification Using Python](https://medium.com/p/four-oversampling-and-under-sampling-methods-for-imbalanced-classification-using-python-7304aedf9037)\n",
        "- [Five Ways To Create Tables In Databricks](https://medium.com/grabngoinfo/five-ways-to-create-tables-in-databricks-cd3847cfc3aa)\n",
        "- [Explainable S-Learner Uplift Model Using Python Package CausalML](https://medium.com/grabngoinfo/explainable-s-learner-uplift-model-using-python-package-causalml-a3c2bed3497c)\n",
        "- [One-Class SVM For Anomaly Detection](https://medium.com/p/one-class-svm-for-anomaly-detection-6c97fdd6d8af)\n",
        "- [Recommendation System: Item-Based Collaborative Filtering](https://medium.com/grabngoinfo/recommendation-system-item-based-collaborative-filtering-f5078504996a)\n",
        "- [Hyperparameter Tuning for Time Series Causal Impact Analysis in Python](https://medium.com/grabngoinfo/hyperparameter-tuning-for-time-series-causal-impact-analysis-in-python-c8f7246c4d22)\n",
        "- [Hyperparameter Tuning and Regularization for Time Series Model Using Prophet in Python](https://medium.com/grabngoinfo/hyperparameter-tuning-and-regularization-for-time-series-model-using-prophet-in-python-9791370a07dc)\n",
        "- [Multivariate Time Series Forecasting with Seasonality and Holiday Effect Using Prophet in Python](https://medium.com/p/multivariate-time-series-forecasting-with-seasonality-and-holiday-effect-using-prophet-in-python-d5d4150eeb57)\n",
        "- [LASSO (L1) Vs Ridge (L2) Vs Elastic Net Regularization For Classification Model](https://medium.com/towards-artificial-intelligence/lasso-l1-vs-ridge-l2-vs-elastic-net-regularization-for-classification-model-409c3d86f6e9)\n",
        "- [S Learner Uplift Model for Individual Treatment Effect and Customer Segmentation in Python](https://medium.com/grabngoinfo/s-learner-uplift-model-for-individual-treatment-effect-and-customer-segmentation-in-python-9d410746e122)\n",
        "- [How to Use R with Google Colab Notebook](https://medium.com/p/how-to-use-r-with-google-colab-notebook-610c3a2f0eab)"
      ],
      "metadata": {
        "id": "ChSeupKs68Hg"
      }
    },
    {
      "cell_type": "markdown",
      "metadata": {
        "id": "vufLVUR1alAF"
      },
      "source": [
        "# References"
      ]
    },
    {
      "cell_type": "markdown",
      "metadata": {
        "id": "sqIHw2PvakJQ"
      },
      "source": [
        "* [Intro to Autoencoders Tensorflow Tutorial](https://www.tensorflow.org/tutorials/generative/autoencoder)\n",
        "* [A Gentle Introduction to Anomaly Detection with Autoencoders](https://anomagram.fastforwardlabs.com/#/)\n",
        "* [Keras Blog on Autoencoder](https://blog.keras.io/building-autoencoders-in-keras.html)\n"
      ]
    }
  ]
}